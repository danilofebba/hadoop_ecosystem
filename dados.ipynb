{
 "cells": [
  {
   "cell_type": "code",
   "execution_count": 1,
   "id": "8d26f6b2-64c1-4ee2-90c8-6f2ad3d86201",
   "metadata": {},
   "outputs": [],
   "source": [
    "import pandas\n",
    "import uuid\n",
    "import datetime"
   ]
  },
  {
   "cell_type": "code",
   "execution_count": 2,
   "id": "2a0404bf-82c4-43b2-92dd-6d99d44f4608",
   "metadata": {},
   "outputs": [],
   "source": [
    "data = []\n",
    "j = 0"
   ]
  },
  {
   "cell_type": "code",
   "execution_count": 3,
   "id": "eaa99092-77de-4f1e-98d2-fc5047bb0190",
   "metadata": {},
   "outputs": [],
   "source": [
    "for i in range(1000000):\n",
    "    data.append({'id': i, 'name': 'test{0}'.format(i), 'created_at': datetime.date(2021,6,9)})\n",
    "    j += 1\n",
    "    if j == 1000:\n",
    "        pandas.DataFrame(data).to_parquet('/home/danilo/warehouse/test/{0}.parquet'.format(uuid.uuid4()))\n",
    "        data = []\n",
    "        j = 0"
   ]
  }
 ],
 "metadata": {
  "kernelspec": {
   "display_name": "Python 3",
   "language": "python",
   "name": "python3"
  },
  "language_info": {
   "codemirror_mode": {
    "name": "ipython",
    "version": 3
   },
   "file_extension": ".py",
   "mimetype": "text/x-python",
   "name": "python",
   "nbconvert_exporter": "python",
   "pygments_lexer": "ipython3",
   "version": "3.8.5"
  }
 },
 "nbformat": 4,
 "nbformat_minor": 5
}
