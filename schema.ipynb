{
 "cells": [
  {
   "cell_type": "code",
   "execution_count": 1,
   "id": "288df6f4-f789-4620-945d-b13db5461b43",
   "metadata": {},
   "outputs": [
    {
     "data": {
      "text/plain": [
       "'pt_BR.UTF-8'"
      ]
     },
     "execution_count": 1,
     "metadata": {},
     "output_type": "execute_result"
    }
   ],
   "source": [
    "import os\n",
    "import datetime\n",
    "import time\n",
    "import locale\n",
    "locale.setlocale(locale.LC_ALL, 'pt_BR.UTF-8')"
   ]
  },
  {
   "cell_type": "code",
   "execution_count": 2,
   "id": "8e9dba6c-b4dc-4255-ac97-dc078880ba15",
   "metadata": {},
   "outputs": [],
   "source": [
    "from pyspark.sql import SparkSession"
   ]
  },
  {
   "cell_type": "code",
   "execution_count": 3,
   "id": "5c71649b-7e23-4837-84f1-f0b0f04ea13a",
   "metadata": {},
   "outputs": [],
   "source": [
    "spark = SparkSession \\\n",
    "    .builder \\\n",
    "    .enableHiveSupport() \\\n",
    "    .getOrCreate()"
   ]
  },
  {
   "cell_type": "markdown",
   "id": "7a7c9f76-5caf-4ca5-8c19-e98f29a40823",
   "metadata": {},
   "source": [
    "# dimensao_calendario"
   ]
  },
  {
   "cell_type": "code",
   "execution_count": null,
   "id": "ebe3f133-589b-4136-819a-2f80f6f72593",
   "metadata": {},
   "outputs": [],
   "source": [
    "spark.sql(\"\"\"\n",
    "    create table if not exists dimensao_calendario (\n",
    "        sk_calendario int,\n",
    "        data date,\n",
    "        dia tinyint\n",
    "    ) stored as avro\n",
    "    partitioned by (\n",
    "        ano smallint,\n",
    "        mes tinyint\n",
    "    )\n",
    "\"\"\")"
   ]
  },
  {
   "cell_type": "markdown",
   "id": "81965cd5-df9c-45b4-9390-e37541a23635",
   "metadata": {},
   "source": [
    "# dimensao_semana_ano_iso"
   ]
  },
  {
   "cell_type": "code",
   "execution_count": null,
   "id": "365d3590-60c4-4429-877e-6b1d57d9ce19",
   "metadata": {},
   "outputs": [],
   "source": [
    "spark.sql(\"\"\"\n",
    "    create table if not exists dimensao_semana_ano_iso (\n",
    "        sk_semana_ano_iso int,\n",
    "        semana_ano_iso tinyint,\n",
    "        nome_semana_ano_iso string\n",
    "    ) stored as avro\n",
    "    partitioned by (\n",
    "        ano_iso smallint\n",
    "    )\n",
    "\"\"\")"
   ]
  },
  {
   "cell_type": "markdown",
   "id": "d6e3d377-a2ee-4b8a-b9f0-ae258caa1cf1",
   "metadata": {},
   "source": [
    "# dimensao_mes"
   ]
  },
  {
   "cell_type": "code",
   "execution_count": null,
   "id": "8b6ec2f4-cbf5-484c-8dcf-b805c76442ba",
   "metadata": {},
   "outputs": [],
   "source": [
    "spark.sql(\"\"\"\n",
    "    create table if not exists dimensao_mes (\n",
    "        sk_mes int,\n",
    "        mes tinyint,\n",
    "        nome_mes string\n",
    "    ) stored as avro\n",
    "    partitioned by (\n",
    "        ano smallint\n",
    "    )\n",
    "\"\"\")"
   ]
  },
  {
   "cell_type": "markdown",
   "id": "38160027-a2b3-4a58-b6b1-5e16e8d690f8",
   "metadata": {},
   "source": [
    "# dimensao_eps"
   ]
  },
  {
   "cell_type": "code",
   "execution_count": null,
   "id": "70c015bf-3be3-4527-9b61-f238cff02c14",
   "metadata": {},
   "outputs": [],
   "source": [
    "spark.sql(\"\"\"\n",
    "    create table if not exists dimensao_eps (\n",
    "        sk_eps tinyint,\n",
    "        nome_eps string,\n",
    "        sigla_eps string\n",
    "    ) stored as avro\n",
    "\"\"\")"
   ]
  },
  {
   "cell_type": "markdown",
   "id": "d06cf5e2-beee-4ecc-b2a4-54c90e0c9cf1",
   "metadata": {},
   "source": [
    "# dimensao_celula"
   ]
  },
  {
   "cell_type": "code",
   "execution_count": null,
   "id": "45d9ba73-daca-4ec0-8daf-dfd0986e2530",
   "metadata": {},
   "outputs": [],
   "source": [
    "spark.sql(\"\"\"\n",
    "    create table if not exists dimensao_celula (\n",
    "        sk_celula smallint,\n",
    "        nome_celula string\n",
    "    ) stored as avro\n",
    "\"\"\")"
   ]
  },
  {
   "cell_type": "code",
   "execution_count": null,
   "id": "752b6196-6101-44ee-8831-a73f77c45e76",
   "metadata": {},
   "outputs": [],
   "source": [
    "spark.stop()\n",
    "del spark"
   ]
  },
  {
   "cell_type": "code",
   "execution_count": null,
   "id": "527a2bef-2306-4843-a6c7-48daf11ef9ad",
   "metadata": {},
   "outputs": [],
   "source": [
    "#input_file_name()\n",
    "\n",
    "#insert overwrite table ratings_buckets partition(genre)\n",
    "#select\n",
    "#userid,\n",
    "#movieid,\n",
    "#rating,\n",
    "#unixtime,\n",
    "#<SOMETHING> as genre\n",
    "#from"
   ]
  }
 ],
 "metadata": {
  "kernelspec": {
   "display_name": "Python 3",
   "language": "python",
   "name": "python3"
  },
  "language_info": {
   "codemirror_mode": {
    "name": "ipython",
    "version": 3
   },
   "file_extension": ".py",
   "mimetype": "text/x-python",
   "name": "python",
   "nbconvert_exporter": "python",
   "pygments_lexer": "ipython3",
   "version": "3.8.5"
  }
 },
 "nbformat": 4,
 "nbformat_minor": 5
}
