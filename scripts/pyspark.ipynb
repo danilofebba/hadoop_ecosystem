{
 "cells": [
  {
   "cell_type": "code",
   "execution_count": null,
   "id": "e75905f2-c10a-481a-af73-6ac0d94b8928",
   "metadata": {},
   "outputs": [],
   "source": [
    "import datetime\n",
    "import dateutil\n",
    "import time\n",
    "import uuid\n",
    "import random\n",
    "import json"
   ]
  },
  {
   "cell_type": "code",
   "execution_count": null,
   "id": "614e9d9e-c56d-4474-8ea0-b09b0ce3fa28",
   "metadata": {},
   "outputs": [],
   "source": [
    "a = 1\n",
    "b = 10\n",
    "data = []\n",
    "date = datetime.date(2021, 1, 1)"
   ]
  },
  {
   "cell_type": "code",
   "execution_count": null,
   "id": "3b14b2d7-c487-4f3b-87a2-28a532bce091",
   "metadata": {},
   "outputs": [],
   "source": [
    "for a in range(b):\n",
    "    data.append(\n",
    "        {\n",
    "            'id': str(uuid.uuid4()),\n",
    "            'code': a,\n",
    "            'option': 'option {0}'.format(random.randint(1,5)),\n",
    "            'description': 'test{0}'.format(a),\n",
    "            'value': round(random.random() * 1000, 2),\n",
    "            'rate': round(random.random(), 4),\n",
    "            'start_date': (date - datetime.date(1970,1,1)).days,\n",
    "            'created_at': int((datetime.datetime.today() - datetime.datetime(1970,1,1)).total_seconds() * 1000000),\n",
    "            'updated_at': int((datetime.datetime.today() - datetime.datetime(1970,1,1)).total_seconds() * 1000000),\n",
    "            'status': True if random.random() < 0.5 else False,\n",
    "            'detail': {\n",
    "                'detail_id': a + 1000,\n",
    "                'description': 'description{0}'.format(a)\n",
    "            }\n",
    "        }\n",
    "    )"
   ]
  },
  {
   "cell_type": "code",
   "execution_count": 1,
   "id": "9c428969-fefb-4cbc-8505-f575d6f5f7e3",
   "metadata": {},
   "outputs": [],
   "source": [
    "import uuid\n",
    "from pyspark.sql import SparkSession"
   ]
  },
  {
   "cell_type": "code",
   "execution_count": 2,
   "id": "5a87ee89-fb4c-4468-9d53-28d4cd94cfbf",
   "metadata": {},
   "outputs": [
    {
     "name": "stderr",
     "output_type": "stream",
     "text": [
      "21/08/17 23:42:56 WARN Utils: Your hostname, ubuntu-vm-01 resolves to a loopback address: 127.0.1.1; using 192.168.15.130 instead (on interface enp0s3)\n",
      "21/08/17 23:42:56 WARN Utils: Set SPARK_LOCAL_IP if you need to bind to another address\n"
     ]
    },
    {
     "name": "stdout",
     "output_type": "stream",
     "text": [
      ":: loading settings :: url = jar:file:/home/danilo/Documents/env/lib/python3.8/site-packages/pyspark/jars/ivy-2.4.0.jar!/org/apache/ivy/core/settings/ivysettings.xml\n"
     ]
    },
    {
     "name": "stderr",
     "output_type": "stream",
     "text": [
      "Ivy Default Cache set to: /home/danilo/.ivy2/cache\n",
      "The jars for the packages stored in: /home/danilo/.ivy2/jars\n",
      "org.apache.spark#spark-avro_2.12 added as a dependency\n",
      ":: resolving dependencies :: org.apache.spark#spark-submit-parent-b809b137-7fd1-466e-ad92-13551e095ba8;1.0\n",
      "\tconfs: [default]\n",
      "\tfound org.apache.spark#spark-avro_2.12;3.0.0 in central\n",
      "\tfound org.spark-project.spark#unused;1.0.0 in central\n",
      ":: resolution report :: resolve 213ms :: artifacts dl 9ms\n",
      "\t:: modules in use:\n",
      "\torg.apache.spark#spark-avro_2.12;3.0.0 from central in [default]\n",
      "\torg.spark-project.spark#unused;1.0.0 from central in [default]\n",
      "\t---------------------------------------------------------------------\n",
      "\t|                  |            modules            ||   artifacts   |\n",
      "\t|       conf       | number| search|dwnlded|evicted|| number|dwnlded|\n",
      "\t---------------------------------------------------------------------\n",
      "\t|      default     |   2   |   0   |   0   |   0   ||   2   |   0   |\n",
      "\t---------------------------------------------------------------------\n",
      ":: retrieving :: org.apache.spark#spark-submit-parent-b809b137-7fd1-466e-ad92-13551e095ba8\n",
      "\tconfs: [default]\n",
      "\t0 artifacts copied, 2 already retrieved (0kB/6ms)\n",
      "21/08/17 23:42:57 WARN NativeCodeLoader: Unable to load native-hadoop library for your platform... using builtin-java classes where applicable\n",
      "Using Spark's default log4j profile: org/apache/spark/log4j-defaults.properties\n",
      "Setting default log level to \"WARN\".\n",
      "To adjust logging level use sc.setLogLevel(newLevel). For SparkR, use setLogLevel(newLevel).\n"
     ]
    }
   ],
   "source": [
    "sparkSession = SparkSession.builder \\\n",
    "    .config('spark.jars.packages', 'org.apache.spark:spark-avro_2.12:3.0.0') \\\n",
    "    .getOrCreate()"
   ]
  },
  {
   "cell_type": "code",
   "execution_count": null,
   "id": "fb52e92e-c1f6-4e14-9b30-71fa06873d14",
   "metadata": {},
   "outputs": [],
   "source": [
    "from pyspark.sql.types import *\n",
    "schema = StructType([\n",
    "    StructField('id', StringType(), True),\n",
    "    StructField('code', LongType(), True),\n",
    "    StructField('option', StringType(), True),\n",
    "    StructField('description', StringType(), True),\n",
    "    StructField('value', DoubleType(), True),\n",
    "    StructField('rate', DoubleType(), True),\n",
    "    StructField('start_date', DateType(), True),\n",
    "    StructField('created_at', TimestampType(), True),\n",
    "    StructField('updated_at', TimestampType(), True),\n",
    "    StructField('status', StringType(), True),\n",
    "    StructField('detail', MapType(LongType(), StringType(), True), True)\n",
    "])"
   ]
  },
  {
   "cell_type": "code",
   "execution_count": null,
   "id": "9cd04e44-7038-46d0-86ad-653d73e5f4ea",
   "metadata": {},
   "outputs": [],
   "source": [
    "df = sparkSession.createDataFrame(data)"
   ]
  },
  {
   "cell_type": "code",
   "execution_count": null,
   "id": "81791d89-6c8a-48dc-8c48-44ff3778d9e4",
   "metadata": {},
   "outputs": [],
   "source": [
    "df.printSchema()"
   ]
  },
  {
   "cell_type": "code",
   "execution_count": null,
   "id": "59db41b9-6430-4ee4-940d-91021bb39c0d",
   "metadata": {},
   "outputs": [],
   "source": [
    "df.write.format(\"avro\").save(\"hdfs://dataserver:9000/warehouse/{0}\".format(uuid.uuid4()))"
   ]
  },
  {
   "cell_type": "code",
   "execution_count": 3,
   "id": "faf80b78-bb6b-44e9-89b2-973acbffc057",
   "metadata": {},
   "outputs": [],
   "source": [
    "df = sparkSession.read.format(\"avro\").load('/home/danilo/Documents/batch01/fact01/2010/1/data_file_20100101.avro')"
   ]
  },
  {
   "cell_type": "code",
   "execution_count": 6,
   "id": "0469aba5-0b7b-4030-bd63-a8fbf8f4a01c",
   "metadata": {},
   "outputs": [
    {
     "name": "stdout",
     "output_type": "stream",
     "text": [
      "+--------------------+----+--------+-----------+------+------+----------+----------------+----------------+------+--------------------+\n",
      "|                  id|code|  option|description| value|  rate|start_date|      created_at|      updated_at|status|              detail|\n",
      "+--------------------+----+--------+-----------+------+------+----------+----------------+----------------+------+--------------------+\n",
      "|c5a3d08a-24a2-407...|   1|option 1|      test1| 357.8|0.9408|2010-01-01|1629243587060357|1629243587060367|  true|{1001, description1}|\n",
      "|bc74faf2-722d-438...|   2|option 2|      test2|374.81| 0.791|2010-01-01|1629243587060589|1629243587060595| false|{1002, description2}|\n",
      "|9d3b1b55-85c6-490...|   3|option 3|      test3|762.49|0.6876|2010-01-01|1629243587060734|1629243587060738|  true|{1003, description3}|\n",
      "|b6feaf47-cce3-437...|   4|option 4|      test4|962.53|0.8617|2010-01-01|1629243587060898|1629243587060901| false|{1004, description4}|\n",
      "|56ac675e-7ea5-4f5...|   5|option 2|      test5| 62.88|0.8596|2010-01-01|1629243587061097|1629243587061101| false|{1005, description5}|\n",
      "|d1c920b1-51b7-4a6...|   6|option 1|      test6|171.16|0.0669|2010-01-01|1629243587061235|1629243587061238|  true|{1006, description6}|\n",
      "|383eae91-a431-4aa...|   7|option 5|      test7|542.76|0.2334|2010-01-01|1629243587061443|1629243587061447|  true|{1007, description7}|\n",
      "|3f1cd9bf-e612-4cb...|   8|option 5|      test8|799.79|0.1161|2010-01-01|1629243587061581|1629243587061584| false|{1008, description8}|\n",
      "|00068223-198e-4e7...|   9|option 4|      test9|926.07|0.6049|2010-01-01|1629243587061722|1629243587061725| false|{1009, description9}|\n",
      "|da9f1836-a245-457...|  10|option 2|     test10| 529.4|0.9435|2010-01-01|1629243587061849|1629243587061853|  true|{1010, descriptio...|\n",
      "|6bdb8f02-80d8-4d8...|  11|option 4|     test11| 383.7|0.9575|2010-01-01|1629243587061968|1629243587061972|  true|{1011, descriptio...|\n",
      "|da83c2de-ff21-4f3...|  12|option 3|     test12|909.29|0.4045|2010-01-01|1629243587062107|1629243587062132|  true|{1012, descriptio...|\n",
      "|82f03445-b471-4bc...|  13|option 5|     test13| 76.99|0.9755|2010-01-01|1629243587062315|1629243587062319|  true|{1013, descriptio...|\n",
      "|247c8fe1-b090-4d0...|  14|option 4|     test14| 57.06|0.9384|2010-01-01|1629243587062489|1629243587062493| false|{1014, descriptio...|\n",
      "|c0c60bcf-a834-44a...|  15|option 1|     test15|747.82|0.9887|2010-01-01|1629243587062611|1629243587062614| false|{1015, descriptio...|\n",
      "|0c638ceb-b78f-428...|  16|option 4|     test16|285.58|0.6581|2010-01-01|1629243587062727|1629243587062731|  true|{1016, descriptio...|\n",
      "|8d9e12a7-72ef-44c...|  17|option 4|     test17|621.11|0.0919|2010-01-01|1629243587062891|1629243587062895|  true|{1017, descriptio...|\n",
      "|35b0d40f-79da-4f1...|  18|option 5|     test18|717.52| 0.365|2010-01-01|1629243587063010|1629243587063013| false|{1018, descriptio...|\n",
      "|c5d76650-620d-48c...|  19|option 3|     test19|  1.88|0.5459|2010-01-01|1629243587063172|1629243587063177|  true|{1019, descriptio...|\n",
      "|5c267c2a-abc1-4fe...|  20|option 2|     test20|754.55|0.8112|2010-01-01|1629243587063369|1629243587063373|  true|{1020, descriptio...|\n",
      "+--------------------+----+--------+-----------+------+------+----------+----------------+----------------+------+--------------------+\n",
      "only showing top 20 rows\n",
      "\n"
     ]
    }
   ],
   "source": [
    "df.show()"
   ]
  },
  {
   "cell_type": "code",
   "execution_count": null,
   "id": "88cb834b-33e9-43d2-94b2-fa86d3cfef6a",
   "metadata": {},
   "outputs": [],
   "source": []
  }
 ],
 "metadata": {
  "kernelspec": {
   "display_name": "Python 3 (ipykernel)",
   "language": "python",
   "name": "python3"
  },
  "language_info": {
   "codemirror_mode": {
    "name": "ipython",
    "version": 3
   },
   "file_extension": ".py",
   "mimetype": "text/x-python",
   "name": "python",
   "nbconvert_exporter": "python",
   "pygments_lexer": "ipython3",
   "version": "3.8.10"
  }
 },
 "nbformat": 4,
 "nbformat_minor": 5
}
