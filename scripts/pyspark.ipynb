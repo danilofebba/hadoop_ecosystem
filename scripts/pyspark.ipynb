{
 "cells": [
  {
   "cell_type": "code",
   "execution_count": null,
   "id": "9c428969-fefb-4cbc-8505-f575d6f5f7e3",
   "metadata": {},
   "outputs": [],
   "source": [
    "import uuid\n",
    "from pyspark.sql import SparkSession"
   ]
  },
  {
   "cell_type": "code",
   "execution_count": null,
   "id": "5a87ee89-fb4c-4468-9d53-28d4cd94cfbf",
   "metadata": {},
   "outputs": [],
   "source": [
    "sparkSession = SparkSession.builder \\\n",
    "    .config('spark.jars.packages', 'org.apache.spark:spark-avro_2.12:3.0.0') \\\n",
    "    .getOrCreate()"
   ]
  },
  {
   "cell_type": "code",
   "execution_count": null,
   "id": "27b480a4-ec81-49ec-8569-b02b26ebf4f1",
   "metadata": {},
   "outputs": [],
   "source": [
    "df = sparkSession.createDataFrame([{\"id\":1,\"name\":\"danilo\"},{\"id\":2,\"name\":\"daniel\"},{\"id\":3,\"name\":\"luana\"}])"
   ]
  },
  {
   "cell_type": "code",
   "execution_count": null,
   "id": "59db41b9-6430-4ee4-940d-91021bb39c0d",
   "metadata": {},
   "outputs": [],
   "source": [
    "df.write.format(\"avro\").save(\"hdfs://192.168.43.2:9000/warehouse/{0}\".format(uuid.uuid4()))"
   ]
  },
  {
   "cell_type": "code",
   "execution_count": null,
   "id": "b0643342-22f8-405f-9a24-10c984e84edf",
   "metadata": {},
   "outputs": [],
   "source": [
    "df.write.parquet(\"hdfs://192.168.43.2:9000/warehouse/{0}\".format(uuid.uuid4()))"
   ]
  },
  {
   "cell_type": "code",
   "execution_count": null,
   "id": "faf80b78-bb6b-44e9-89b2-973acbffc057",
   "metadata": {},
   "outputs": [],
   "source": [
    "df = sparkSession.read.format(\"avro\").load('hdfs://192.168.43.2:9000/warehouse/fact01/**/**/*')"
   ]
  },
  {
   "cell_type": "code",
   "execution_count": null,
   "id": "d7ca4721-f876-420a-ab2e-2058481fc973",
   "metadata": {},
   "outputs": [],
   "source": [
    "df.show()"
   ]
  }
 ],
 "metadata": {
  "kernelspec": {
   "display_name": "Python 3 (ipykernel)",
   "language": "python",
   "name": "python3"
  },
  "language_info": {
   "codemirror_mode": {
    "name": "ipython",
    "version": 3
   },
   "file_extension": ".py",
   "mimetype": "text/x-python",
   "name": "python",
   "nbconvert_exporter": "python",
   "pygments_lexer": "ipython3",
   "version": "3.8.10"
  }
 },
 "nbformat": 4,
 "nbformat_minor": 5
}
